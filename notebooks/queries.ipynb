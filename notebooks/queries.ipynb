{
 "cells": [
  {
   "cell_type": "code",
   "execution_count": null,
   "metadata": {},
   "outputs": [],
   "source": [
    "%pip install superlinked"
   ]
  },
  {
   "cell_type": "code",
   "execution_count": 1,
   "metadata": {},
   "outputs": [
    {
     "name": "stderr",
     "output_type": "stream",
     "text": [
      "/opt/homebrew/anaconda3/envs/hug_face/lib/python3.10/site-packages/pandas/core/arrays/masked.py:60: UserWarning: Pandas requires version '1.3.6' or newer of 'bottleneck' (version '1.3.5' currently installed).\n",
      "  from pandas.core import (\n"
     ]
    }
   ],
   "source": [
    "import pandas as pd"
   ]
  },
  {
   "cell_type": "code",
   "execution_count": 8,
   "metadata": {},
   "outputs": [],
   "source": [
    "import os\n",
    "data_path = os.path.abspath('..')+'/data/'\n",
    "pokedex_df = pd.read_csv(data_path+\"pokedex_updated.csv\").drop(columns=[\"Unnamed: 0\"])\n",
    "pokedex_df['ability_1'].fillna('None', inplace=True)\n",
    "pokedex_df['ability_2'].fillna('None', inplace=True)"
   ]
  },
  {
   "cell_type": "code",
   "execution_count": 9,
   "metadata": {},
   "outputs": [
    {
     "name": "stdout",
     "output_type": "stream",
     "text": [
      "<class 'pandas.core.frame.DataFrame'>\n",
      "RangeIndex: 1025 entries, 0 to 1024\n",
      "Data columns (total 13 columns):\n",
      " #   Column          Non-Null Count  Dtype  \n",
      "---  ------          --------------  -----  \n",
      " 0   id              1025 non-null   int64  \n",
      " 1   name            1025 non-null   object \n",
      " 2   color           1025 non-null   object \n",
      " 3   habitat         1025 non-null   object \n",
      " 4   shape           1025 non-null   object \n",
      " 5   poke_type       1025 non-null   object \n",
      " 6   capture_chance  1025 non-null   float64\n",
      " 7   height          1025 non-null   int64  \n",
      " 8   weight          1025 non-null   int64  \n",
      " 9   ability_0       1025 non-null   object \n",
      " 10  ability_1       1025 non-null   object \n",
      " 11  ability_2       1025 non-null   object \n",
      " 12  sprite          1025 non-null   object \n",
      "dtypes: float64(1), int64(3), object(9)\n",
      "memory usage: 104.2+ KB\n"
     ]
    }
   ],
   "source": [
    "pokedex_df.info()"
   ]
  },
  {
   "cell_type": "code",
   "execution_count": 10,
   "metadata": {},
   "outputs": [],
   "source": [
    "from superlinked.framework.common.schema.schema import schema\n",
    "from superlinked.framework.common.schema.schema_object import (\n",
    "    String,\n",
    "    Float,\n",
    ")\n",
    "from superlinked.framework.common.schema.id_schema_object import IdField\n",
    "from superlinked.framework.dsl.space.number_space import NumberSpace\n",
    "from superlinked.framework.dsl.space.categorical_similarity_space import (\n",
    "    CategoricalSimilaritySpace,\n",
    ")\n",
    "from superlinked.framework.dsl.source.in_memory_source import InMemorySource\n",
    "from superlinked.framework.common.parser.dataframe_parser import DataFrameParser\n",
    "from superlinked.framework.common.embedding.number_embedding import Mode\n",
    "from superlinked.framework.dsl.index.index import Index\n",
    "from superlinked.framework.dsl.query.param import Param\n",
    "from superlinked.framework.dsl.query.query import Query\n",
    "from superlinked.framework.dsl.query.result import Result\n",
    "from superlinked.framework.dsl.executor.in_memory.in_memory_executor import (\n",
    "    InMemoryExecutor,\n",
    "    InMemoryApp,\n",
    ")"
   ]
  },
  {
   "cell_type": "code",
   "execution_count": 11,
   "metadata": {},
   "outputs": [],
   "source": [
    "@schema\n",
    "class PokeSchema:\n",
    "    color: String\n",
    "    habitat: String\n",
    "    capture_chance: Float\n",
    "    id: IdField\n",
    "\n",
    "pokemon = PokeSchema()"
   ]
  },
  {
   "cell_type": "code",
   "execution_count": 12,
   "metadata": {},
   "outputs": [
    {
     "name": "stdout",
     "output_type": "stream",
     "text": [
      "['green' 'red' 'blue' 'white' 'brown' 'yellow' 'purple' 'pink' 'gray'\n",
      " 'black']\n",
      "['grassland' 'mountain' 'waters-edge' 'forest' 'rough-terrain' 'cave'\n",
      " 'urban' 'sea' 'rare']\n"
     ]
    }
   ],
   "source": [
    "categories = pokedex_df[\"color\"].unique()\n",
    "print(categories)\n",
    "habitats = pokedex_df[\"habitat\"].unique()\n",
    "print(habitats)"
   ]
  },
  {
   "cell_type": "code",
   "execution_count": 13,
   "metadata": {},
   "outputs": [],
   "source": [
    "color_space = CategoricalSimilaritySpace(\n",
    "    category_input=pokemon.color, categories=categories\n",
    ")\n",
    "habitat_space = CategoricalSimilaritySpace(\n",
    "    category_input=pokemon.habitat, categories=habitats\n",
    ")\n",
    "capture_chance_space = NumberSpace(\n",
    "    number=pokemon.capture_chance, min_value=0, max_value=1, mode=Mode.SIMILAR\n",
    ")\n",
    "\n",
    "poke_index = Index(\n",
    "    spaces=[\n",
    "        color_space,\n",
    "        habitat_space,\n",
    "        capture_chance_space,\n",
    "    ]\n",
    ")"
   ]
  },
  {
   "cell_type": "code",
   "execution_count": 14,
   "metadata": {},
   "outputs": [],
   "source": [
    "df_parser = DataFrameParser(schema=pokemon)\n",
    "source: InMemorySource = InMemorySource(pokemon, parser=df_parser)\n",
    "executor: InMemoryExecutor = InMemoryExecutor(\n",
    "    sources=[source],\n",
    "    indices=[poke_index],\n",
    ")\n",
    "app: InMemoryApp = executor.run()"
   ]
  },
  {
   "cell_type": "code",
   "execution_count": 15,
   "metadata": {},
   "outputs": [],
   "source": [
    "source.put([pokedex_df])"
   ]
  },
  {
   "cell_type": "code",
   "execution_count": 16,
   "metadata": {},
   "outputs": [],
   "source": [
    "def get_results(result):\n",
    "    ids = [int(entry.stored_object['id']) for entry in result.entries]\n",
    "    res = pokedex_df[pokedex_df[\"id\"].isin(ids)]\n",
    "    return res"
   ]
  },
  {
   "cell_type": "code",
   "execution_count": 17,
   "metadata": {},
   "outputs": [],
   "source": [
    "query = (\n",
    "    Query(\n",
    "        poke_index,\n",
    "        weights={\n",
    "            color_space: Param(\"color_weight\"),\n",
    "            habitat_space: Param(\"habitat_weight\"),\n",
    "            capture_chance_space: Param(\"capture_chance_weight\"),\n",
    "        },\n",
    "    )\n",
    "    .find(pokemon)\n",
    "    .similar(color_space.category, Param(\"color\"))  \n",
    "    .similar(habitat_space.category, Param(\"habitat\")) \n",
    "    .similar(capture_chance_space.number, Param(\"chance\")) \n",
    "    .limit(Param(\"limit\"))\n",
    ")"
   ]
  },
  {
   "cell_type": "code",
   "execution_count": 18,
   "metadata": {},
   "outputs": [
    {
     "data": {
      "text/plain": [
       "id                                                               25\n",
       "name                                                        pikachu\n",
       "color                                                        yellow\n",
       "habitat                                                      forest\n",
       "shape                                                     quadruped\n",
       "poke_type                                                  electric\n",
       "capture_chance                                                 0.75\n",
       "height                                                            4\n",
       "weight                                                           60\n",
       "ability_0                                                    static\n",
       "ability_1                                             lightning-rod\n",
       "ability_2                                                      None\n",
       "sprite            https://raw.githubusercontent.com/PokeAPI/spri...\n",
       "Name: 24, dtype: object"
      ]
     },
     "execution_count": 18,
     "metadata": {},
     "output_type": "execute_result"
    }
   ],
   "source": [
    "pokedex_df.iloc[24]"
   ]
  },
  {
   "cell_type": "code",
   "execution_count": 19,
   "metadata": {},
   "outputs": [
    {
     "data": {
      "text/html": [
       "<div>\n",
       "<style scoped>\n",
       "    .dataframe tbody tr th:only-of-type {\n",
       "        vertical-align: middle;\n",
       "    }\n",
       "\n",
       "    .dataframe tbody tr th {\n",
       "        vertical-align: top;\n",
       "    }\n",
       "\n",
       "    .dataframe thead th {\n",
       "        text-align: right;\n",
       "    }\n",
       "</style>\n",
       "<table border=\"1\" class=\"dataframe\">\n",
       "  <thead>\n",
       "    <tr style=\"text-align: right;\">\n",
       "      <th></th>\n",
       "      <th>id</th>\n",
       "      <th>name</th>\n",
       "      <th>color</th>\n",
       "      <th>habitat</th>\n",
       "      <th>shape</th>\n",
       "      <th>poke_type</th>\n",
       "      <th>capture_chance</th>\n",
       "      <th>height</th>\n",
       "      <th>weight</th>\n",
       "      <th>ability_0</th>\n",
       "      <th>ability_1</th>\n",
       "      <th>ability_2</th>\n",
       "      <th>sprite</th>\n",
       "    </tr>\n",
       "  </thead>\n",
       "  <tbody>\n",
       "    <tr>\n",
       "      <th>13</th>\n",
       "      <td>14</td>\n",
       "      <td>kakuna</td>\n",
       "      <td>yellow</td>\n",
       "      <td>forest</td>\n",
       "      <td>squiggle</td>\n",
       "      <td>bug</td>\n",
       "      <td>0.47</td>\n",
       "      <td>6</td>\n",
       "      <td>100</td>\n",
       "      <td>shed-skin</td>\n",
       "      <td>None</td>\n",
       "      <td>None</td>\n",
       "      <td>https://raw.githubusercontent.com/PokeAPI/spri...</td>\n",
       "    </tr>\n",
       "    <tr>\n",
       "      <th>14</th>\n",
       "      <td>15</td>\n",
       "      <td>beedrill</td>\n",
       "      <td>yellow</td>\n",
       "      <td>forest</td>\n",
       "      <td>bug-wings</td>\n",
       "      <td>bug</td>\n",
       "      <td>0.18</td>\n",
       "      <td>10</td>\n",
       "      <td>295</td>\n",
       "      <td>swarm</td>\n",
       "      <td>sniper</td>\n",
       "      <td>None</td>\n",
       "      <td>https://raw.githubusercontent.com/PokeAPI/spri...</td>\n",
       "    </tr>\n",
       "    <tr>\n",
       "      <th>24</th>\n",
       "      <td>25</td>\n",
       "      <td>pikachu</td>\n",
       "      <td>yellow</td>\n",
       "      <td>forest</td>\n",
       "      <td>quadruped</td>\n",
       "      <td>electric</td>\n",
       "      <td>0.75</td>\n",
       "      <td>4</td>\n",
       "      <td>60</td>\n",
       "      <td>static</td>\n",
       "      <td>lightning-rod</td>\n",
       "      <td>None</td>\n",
       "      <td>https://raw.githubusercontent.com/PokeAPI/spri...</td>\n",
       "    </tr>\n",
       "    <tr>\n",
       "      <th>25</th>\n",
       "      <td>26</td>\n",
       "      <td>raichu</td>\n",
       "      <td>yellow</td>\n",
       "      <td>forest</td>\n",
       "      <td>upright</td>\n",
       "      <td>electric</td>\n",
       "      <td>0.29</td>\n",
       "      <td>8</td>\n",
       "      <td>300</td>\n",
       "      <td>static</td>\n",
       "      <td>lightning-rod</td>\n",
       "      <td>None</td>\n",
       "      <td>https://raw.githubusercontent.com/PokeAPI/spri...</td>\n",
       "    </tr>\n",
       "    <tr>\n",
       "      <th>26</th>\n",
       "      <td>27</td>\n",
       "      <td>sandshrew</td>\n",
       "      <td>yellow</td>\n",
       "      <td>rough-terrain</td>\n",
       "      <td>upright</td>\n",
       "      <td>ground</td>\n",
       "      <td>1.00</td>\n",
       "      <td>6</td>\n",
       "      <td>120</td>\n",
       "      <td>sand-veil</td>\n",
       "      <td>sand-rush</td>\n",
       "      <td>None</td>\n",
       "      <td>https://raw.githubusercontent.com/PokeAPI/spri...</td>\n",
       "    </tr>\n",
       "  </tbody>\n",
       "</table>\n",
       "</div>"
      ],
      "text/plain": [
       "    id       name   color        habitat      shape poke_type  capture_chance  \\\n",
       "13  14     kakuna  yellow         forest   squiggle       bug            0.47   \n",
       "14  15   beedrill  yellow         forest  bug-wings       bug            0.18   \n",
       "24  25    pikachu  yellow         forest  quadruped  electric            0.75   \n",
       "25  26     raichu  yellow         forest    upright  electric            0.29   \n",
       "26  27  sandshrew  yellow  rough-terrain    upright    ground            1.00   \n",
       "\n",
       "    height  weight  ability_0      ability_1 ability_2  \\\n",
       "13       6     100  shed-skin           None      None   \n",
       "14      10     295      swarm         sniper      None   \n",
       "24       4      60     static  lightning-rod      None   \n",
       "25       8     300     static  lightning-rod      None   \n",
       "26       6     120  sand-veil      sand-rush      None   \n",
       "\n",
       "                                               sprite  \n",
       "13  https://raw.githubusercontent.com/PokeAPI/spri...  \n",
       "14  https://raw.githubusercontent.com/PokeAPI/spri...  \n",
       "24  https://raw.githubusercontent.com/PokeAPI/spri...  \n",
       "25  https://raw.githubusercontent.com/PokeAPI/spri...  \n",
       "26  https://raw.githubusercontent.com/PokeAPI/spri...  "
      ]
     },
     "execution_count": 19,
     "metadata": {},
     "output_type": "execute_result"
    }
   ],
   "source": [
    "query_params = {\n",
    "    \"color_weight\": 10,\n",
    "    \"habitat_weight\": 0,\n",
    "    \"capture_chance_weight\": 0,\n",
    "    \"color\": \"yellow\",\n",
    "    \"habitat\": \"grassland\",\n",
    "    \"chance\": 0.75,\n",
    "}\n",
    "\n",
    "result = app.query(query, limit=5, **query_params)\n",
    "get_results(result)"
   ]
  }
 ],
 "metadata": {
  "kernelspec": {
   "display_name": "base",
   "language": "python",
   "name": "python3"
  },
  "language_info": {
   "codemirror_mode": {
    "name": "ipython",
    "version": 3
   },
   "file_extension": ".py",
   "mimetype": "text/x-python",
   "name": "python",
   "nbconvert_exporter": "python",
   "pygments_lexer": "ipython3",
   "version": "3.10.11"
  }
 },
 "nbformat": 4,
 "nbformat_minor": 2
}
