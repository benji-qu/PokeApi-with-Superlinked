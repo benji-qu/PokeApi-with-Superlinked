{
 "cells": [
  {
   "cell_type": "code",
   "execution_count": 1,
   "metadata": {},
   "outputs": [
    {
     "name": "stderr",
     "output_type": "stream",
     "text": [
      "/opt/homebrew/anaconda3/envs/hug_face/lib/python3.10/site-packages/pandas/core/arrays/masked.py:60: UserWarning: Pandas requires version '1.3.6' or newer of 'bottleneck' (version '1.3.5' currently installed).\n",
      "  from pandas.core import (\n"
     ]
    }
   ],
   "source": [
    "import pandas as pd\n",
    "import warnings\n",
    "warnings.filterwarnings('ignore')"
   ]
  },
  {
   "cell_type": "code",
   "execution_count": 2,
   "metadata": {},
   "outputs": [],
   "source": [
    "import os\n",
    "data_path = os.path.abspath('..')+'/data/'\n",
    "pokedex_df = pd.read_csv(data_path+\"pokedex_updated.csv\").drop(columns=[\"Unnamed: 0\"])\n",
    "pokedex_df['ability_1'].fillna('None', inplace=True)\n",
    "pokedex_df['ability_2'].fillna('None', inplace=True)\n",
    "pd.set_option(\"display.max_colwidth\", 100)"
   ]
  },
  {
   "cell_type": "code",
   "execution_count": 3,
   "metadata": {},
   "outputs": [],
   "source": [
    "from superlinked.framework.common.schema.schema import schema\n",
    "from superlinked.framework.common.schema.schema_object import (\n",
    "    String,\n",
    "    Float,\n",
    ")\n",
    "from superlinked.framework.common.schema.id_schema_object import IdField\n",
    "from superlinked.framework.dsl.space.number_space import NumberSpace\n",
    "from superlinked.framework.dsl.space.categorical_similarity_space import (\n",
    "    CategoricalSimilaritySpace,\n",
    ")\n",
    "from superlinked.framework.dsl.source.in_memory_source import InMemorySource\n",
    "from superlinked.framework.common.parser.dataframe_parser import DataFrameParser\n",
    "from superlinked.framework.common.embedding.number_embedding import Mode\n",
    "from superlinked.framework.dsl.index.index import Index\n",
    "from superlinked.framework.dsl.query.param import Param\n",
    "from superlinked.framework.dsl.query.query import Query\n",
    "from superlinked.framework.dsl.executor.in_memory.in_memory_executor import (\n",
    "    InMemoryExecutor,\n",
    "    InMemoryApp,\n",
    ")"
   ]
  },
  {
   "cell_type": "markdown",
   "metadata": {},
   "source": [
    "Let us start with basic schema. We want to find a pokemon based on color, habitat, and type."
   ]
  },
  {
   "cell_type": "code",
   "execution_count": null,
   "metadata": {},
   "outputs": [],
   "source": [
    "@schema\n",
    "class PokeSchema:\n",
    "    color: String\n",
    "    habitat: String\n",
    "    poke_type: String\n",
    "    id: IdField\n",
    "\n",
    "pokemon = PokeSchema()"
   ]
  },
  {
   "cell_type": "code",
   "execution_count": 4,
   "metadata": {},
   "outputs": [
    {
     "name": "stdout",
     "output_type": "stream",
     "text": [
      "['green' 'red' 'blue' 'white' 'brown' 'yellow' 'purple' 'pink' 'gray'\n",
      " 'black']\n",
      "['grassland' 'mountain' 'waters-edge' 'forest' 'rough-terrain' 'cave'\n",
      " 'urban' 'sea' 'rare']\n",
      "['grass' 'fire' 'water' 'bug' 'normal' 'poison' 'electric' 'ground'\n",
      " 'fairy' 'fighting' 'psychic' 'rock' 'ghost' 'ice' 'dragon' 'dark' 'steel'\n",
      " 'flying']\n"
     ]
    }
   ],
   "source": [
    "categories = pokedex_df[\"color\"].unique()\n",
    "print(categories)\n",
    "habitats = pokedex_df[\"habitat\"].unique()\n",
    "print(habitats)\n",
    "poke_types = pokedex_df[\"poke_type\"].unique()\n",
    "print(poke_types)"
   ]
  },
  {
   "cell_type": "markdown",
   "metadata": {},
   "source": [
    "All fields of our schema are categorical, so we will use categorical similarity space. It is based on lists we have created above."
   ]
  },
  {
   "cell_type": "code",
   "execution_count": null,
   "metadata": {},
   "outputs": [],
   "source": [
    "color_space = CategoricalSimilaritySpace(\n",
    "    category_input=pokemon.color, categories=categories\n",
    ")\n",
    "habitat_space = CategoricalSimilaritySpace(\n",
    "    category_input=pokemon.habitat, categories=habitats\n",
    ")\n",
    "type_space = CategoricalSimilaritySpace(\n",
    "    category_input=pokemon.poke_type, categories=poke_types\n",
    ")\n"
   ]
  },
  {
   "cell_type": "code",
   "execution_count": null,
   "metadata": {},
   "outputs": [],
   "source": [
    "poke_index = Index(\n",
    "    spaces=[\n",
    "        color_space,\n",
    "        habitat_space,\n",
    "        type_space,\n",
    "    ]\n",
    ")"
   ]
  },
  {
   "cell_type": "markdown",
   "metadata": {},
   "source": [
    "Then we need to create an in-memory source and executor to try out your configuration."
   ]
  },
  {
   "cell_type": "code",
   "execution_count": null,
   "metadata": {},
   "outputs": [],
   "source": [
    "df_parser = DataFrameParser(schema=pokemon)\n",
    "source: InMemorySource = InMemorySource(pokemon, parser=df_parser)\n",
    "executor: InMemoryExecutor = InMemoryExecutor(\n",
    "    sources=[source],\n",
    "    indices=[poke_index],\n",
    ")\n",
    "app: InMemoryApp = executor.run()\n",
    "source.put([pokedex_df])"
   ]
  },
  {
   "cell_type": "markdown",
   "metadata": {},
   "source": [
    "get_results will get us slice of dataset based on our query."
   ]
  },
  {
   "cell_type": "code",
   "execution_count": 35,
   "metadata": {},
   "outputs": [],
   "source": [
    "def get_results(result):\n",
    "    ids = [int(entry.stored_object['id']) for entry in result.entries]\n",
    "    res = pokedex_df[pokedex_df[\"id\"].isin(ids)]\n",
    "    return res"
   ]
  },
  {
   "cell_type": "markdown",
   "metadata": {},
   "source": [
    "With this simple query, we are searching for pokemons in all the fields we have."
   ]
  },
  {
   "cell_type": "code",
   "execution_count": null,
   "metadata": {},
   "outputs": [],
   "source": [
    "query = (\n",
    "    Query(\n",
    "        poke_index,\n",
    "        weights={\n",
    "            color_space: Param(\"color_weight\"),\n",
    "            habitat_space: Param(\"habitat_weight\"),\n",
    "            type_space: Param(\"type_weight\"),\n",
    "        },\n",
    "    )\n",
    "    .find(pokemon)\n",
    "    .similar(color_space.category, Param(\"color\"))  \n",
    "    .similar(habitat_space.category, Param(\"habitat\")) \n",
    "    .similar(type_space.category, Param(\"type\")) \n",
    "    .limit(Param(\"limit\"))\n",
    ")"
   ]
  },
  {
   "cell_type": "markdown",
   "metadata": {},
   "source": [
    "Say, we want to catch Pikachu. Let look for Pikachu in our pokedex. (His id is 25)"
   ]
  },
  {
   "cell_type": "code",
   "execution_count": null,
   "metadata": {},
   "outputs": [],
   "source": [
    "pokedex_df.iloc[24]"
   ]
  },
  {
   "cell_type": "markdown",
   "metadata": {},
   "source": [
    "So he is an electric living in a forest yellow pokemon. So we put the parameters in our query to get it"
   ]
  },
  {
   "cell_type": "code",
   "execution_count": null,
   "metadata": {},
   "outputs": [],
   "source": [
    "query_params = {\n",
    "    \"color_weight\": 1,\n",
    "    \"habitat_weight\": 0,\n",
    "    \"type_weight\": 1,\n",
    "    \"color\": \"yellow\",\n",
    "    \"habitat\": \"grassland\",\n",
    "    \"type\": 'electric',\n",
    "}\n",
    "\n",
    "result = app.query(query, limit=5, **query_params)\n",
    "get_results(result)"
   ]
  },
  {
   "cell_type": "markdown",
   "metadata": {},
   "source": [
    "Ok. We want to have all *chu pokemons. I assume they are all electric, live in a forest and all have at least static ability. So we know that they are from one \"family\" let us try to get them with similarity one to the other."
   ]
  },
  {
   "cell_type": "code",
   "execution_count": 29,
   "metadata": {},
   "outputs": [],
   "source": [
    "@schema\n",
    "class PokeSchema:\n",
    "    color: String\n",
    "    habitat: String\n",
    "    poke_type: String\n",
    "    ability_0: String\n",
    "    id: IdField\n",
    "\n",
    "pokemon = PokeSchema()"
   ]
  },
  {
   "cell_type": "code",
   "execution_count": 30,
   "metadata": {},
   "outputs": [],
   "source": [
    "abilities = pokedex_df['ability_0'].unique()"
   ]
  },
  {
   "cell_type": "code",
   "execution_count": 31,
   "metadata": {},
   "outputs": [],
   "source": [
    "color_space = CategoricalSimilaritySpace(\n",
    "    category_input=pokemon.color, categories=categories\n",
    ")\n",
    "habitat_space = CategoricalSimilaritySpace(\n",
    "    category_input=pokemon.habitat, categories=habitats\n",
    ")\n",
    "type_space = CategoricalSimilaritySpace(\n",
    "    category_input=pokemon.poke_type, categories=poke_types\n",
    ")\n",
    "ability_space = CategoricalSimilaritySpace(\n",
    "    category_input=pokemon.ability_0, categories=abilities\n",
    ")"
   ]
  },
  {
   "cell_type": "code",
   "execution_count": 32,
   "metadata": {},
   "outputs": [],
   "source": [
    "poke_index = Index(\n",
    "    spaces=[\n",
    "        color_space,\n",
    "        habitat_space,\n",
    "        type_space,\n",
    "        ability_space,\n",
    "    ]\n",
    ")"
   ]
  },
  {
   "cell_type": "code",
   "execution_count": 46,
   "metadata": {},
   "outputs": [],
   "source": [
    "df_parser = DataFrameParser(schema=pokemon)\n",
    "source: InMemorySource = InMemorySource(pokemon, parser=df_parser)\n",
    "executor: InMemoryExecutor = InMemoryExecutor(\n",
    "    sources=[source],\n",
    "    indices=[poke_index],\n",
    ")\n",
    "app: InMemoryApp = executor.run()\n",
    "source.put([pokedex_df])"
   ]
  },
  {
   "cell_type": "code",
   "execution_count": 44,
   "metadata": {},
   "outputs": [
    {
     "data": {
      "text/html": [
       "<div>\n",
       "<style scoped>\n",
       "    .dataframe tbody tr th:only-of-type {\n",
       "        vertical-align: middle;\n",
       "    }\n",
       "\n",
       "    .dataframe tbody tr th {\n",
       "        vertical-align: top;\n",
       "    }\n",
       "\n",
       "    .dataframe thead th {\n",
       "        text-align: right;\n",
       "    }\n",
       "</style>\n",
       "<table border=\"1\" class=\"dataframe\">\n",
       "  <thead>\n",
       "    <tr style=\"text-align: right;\">\n",
       "      <th></th>\n",
       "      <th>id</th>\n",
       "      <th>name</th>\n",
       "      <th>color</th>\n",
       "      <th>habitat</th>\n",
       "      <th>shape</th>\n",
       "      <th>poke_type</th>\n",
       "      <th>capture_chance</th>\n",
       "      <th>height</th>\n",
       "      <th>weight</th>\n",
       "      <th>ability_0</th>\n",
       "      <th>ability_1</th>\n",
       "      <th>ability_2</th>\n",
       "      <th>sprite</th>\n",
       "    </tr>\n",
       "  </thead>\n",
       "  <tbody>\n",
       "    <tr>\n",
       "      <th>0</th>\n",
       "      <td>1</td>\n",
       "      <td>bulbasaur</td>\n",
       "      <td>green</td>\n",
       "      <td>grassland</td>\n",
       "      <td>quadruped</td>\n",
       "      <td>grass</td>\n",
       "      <td>0.18</td>\n",
       "      <td>7</td>\n",
       "      <td>69</td>\n",
       "      <td>overgrow</td>\n",
       "      <td>chlorophyll</td>\n",
       "      <td>None</td>\n",
       "      <td>https://raw.githubusercontent.com/PokeAPI/sprites/master/sprites/pokemon/1.png</td>\n",
       "    </tr>\n",
       "    <tr>\n",
       "      <th>1</th>\n",
       "      <td>2</td>\n",
       "      <td>ivysaur</td>\n",
       "      <td>green</td>\n",
       "      <td>grassland</td>\n",
       "      <td>quadruped</td>\n",
       "      <td>grass</td>\n",
       "      <td>0.18</td>\n",
       "      <td>10</td>\n",
       "      <td>130</td>\n",
       "      <td>overgrow</td>\n",
       "      <td>chlorophyll</td>\n",
       "      <td>None</td>\n",
       "      <td>https://raw.githubusercontent.com/PokeAPI/sprites/master/sprites/pokemon/2.png</td>\n",
       "    </tr>\n",
       "    <tr>\n",
       "      <th>2</th>\n",
       "      <td>3</td>\n",
       "      <td>venusaur</td>\n",
       "      <td>green</td>\n",
       "      <td>grassland</td>\n",
       "      <td>quadruped</td>\n",
       "      <td>grass</td>\n",
       "      <td>0.18</td>\n",
       "      <td>20</td>\n",
       "      <td>1000</td>\n",
       "      <td>overgrow</td>\n",
       "      <td>chlorophyll</td>\n",
       "      <td>None</td>\n",
       "      <td>https://raw.githubusercontent.com/PokeAPI/sprites/master/sprites/pokemon/3.png</td>\n",
       "    </tr>\n",
       "    <tr>\n",
       "      <th>3</th>\n",
       "      <td>4</td>\n",
       "      <td>charmander</td>\n",
       "      <td>red</td>\n",
       "      <td>mountain</td>\n",
       "      <td>upright</td>\n",
       "      <td>fire</td>\n",
       "      <td>0.18</td>\n",
       "      <td>6</td>\n",
       "      <td>85</td>\n",
       "      <td>blaze</td>\n",
       "      <td>solar-power</td>\n",
       "      <td>None</td>\n",
       "      <td>https://raw.githubusercontent.com/PokeAPI/sprites/master/sprites/pokemon/4.png</td>\n",
       "    </tr>\n",
       "    <tr>\n",
       "      <th>4</th>\n",
       "      <td>5</td>\n",
       "      <td>charmeleon</td>\n",
       "      <td>red</td>\n",
       "      <td>mountain</td>\n",
       "      <td>upright</td>\n",
       "      <td>fire</td>\n",
       "      <td>0.18</td>\n",
       "      <td>11</td>\n",
       "      <td>190</td>\n",
       "      <td>blaze</td>\n",
       "      <td>solar-power</td>\n",
       "      <td>None</td>\n",
       "      <td>https://raw.githubusercontent.com/PokeAPI/sprites/master/sprites/pokemon/5.png</td>\n",
       "    </tr>\n",
       "    <tr>\n",
       "      <th>...</th>\n",
       "      <td>...</td>\n",
       "      <td>...</td>\n",
       "      <td>...</td>\n",
       "      <td>...</td>\n",
       "      <td>...</td>\n",
       "      <td>...</td>\n",
       "      <td>...</td>\n",
       "      <td>...</td>\n",
       "      <td>...</td>\n",
       "      <td>...</td>\n",
       "      <td>...</td>\n",
       "      <td>...</td>\n",
       "      <td>...</td>\n",
       "    </tr>\n",
       "    <tr>\n",
       "      <th>1020</th>\n",
       "      <td>1021</td>\n",
       "      <td>raging-bolt</td>\n",
       "      <td>yellow</td>\n",
       "      <td>grassland</td>\n",
       "      <td>humanoid</td>\n",
       "      <td>electric</td>\n",
       "      <td>0.04</td>\n",
       "      <td>52</td>\n",
       "      <td>4800</td>\n",
       "      <td>protosynthesis</td>\n",
       "      <td>None</td>\n",
       "      <td>None</td>\n",
       "      <td>https://raw.githubusercontent.com/PokeAPI/sprites/master/sprites/pokemon/1021.png</td>\n",
       "    </tr>\n",
       "    <tr>\n",
       "      <th>1021</th>\n",
       "      <td>1022</td>\n",
       "      <td>iron-boulder</td>\n",
       "      <td>gray</td>\n",
       "      <td>mountain</td>\n",
       "      <td>humanoid</td>\n",
       "      <td>rock</td>\n",
       "      <td>0.04</td>\n",
       "      <td>15</td>\n",
       "      <td>1625</td>\n",
       "      <td>quark-drive</td>\n",
       "      <td>None</td>\n",
       "      <td>None</td>\n",
       "      <td>https://raw.githubusercontent.com/PokeAPI/sprites/master/sprites/pokemon/1022.png</td>\n",
       "    </tr>\n",
       "    <tr>\n",
       "      <th>1022</th>\n",
       "      <td>1023</td>\n",
       "      <td>iron-crown</td>\n",
       "      <td>blue</td>\n",
       "      <td>rough-terrain</td>\n",
       "      <td>quadruped</td>\n",
       "      <td>steel</td>\n",
       "      <td>0.04</td>\n",
       "      <td>16</td>\n",
       "      <td>1560</td>\n",
       "      <td>quark-drive</td>\n",
       "      <td>None</td>\n",
       "      <td>None</td>\n",
       "      <td>https://raw.githubusercontent.com/PokeAPI/sprites/master/sprites/pokemon/1023.png</td>\n",
       "    </tr>\n",
       "    <tr>\n",
       "      <th>1023</th>\n",
       "      <td>1024</td>\n",
       "      <td>terapagos</td>\n",
       "      <td>blue</td>\n",
       "      <td>grassland</td>\n",
       "      <td>quadruped</td>\n",
       "      <td>normal</td>\n",
       "      <td>1.00</td>\n",
       "      <td>2</td>\n",
       "      <td>65</td>\n",
       "      <td>tera-shift</td>\n",
       "      <td>None</td>\n",
       "      <td>None</td>\n",
       "      <td>https://raw.githubusercontent.com/PokeAPI/sprites/master/sprites/pokemon/1024.png</td>\n",
       "    </tr>\n",
       "    <tr>\n",
       "      <th>1024</th>\n",
       "      <td>1025</td>\n",
       "      <td>pecharunt</td>\n",
       "      <td>purple</td>\n",
       "      <td>grassland</td>\n",
       "      <td>humanoid</td>\n",
       "      <td>poison</td>\n",
       "      <td>0.01</td>\n",
       "      <td>3</td>\n",
       "      <td>3</td>\n",
       "      <td>poison-puppeteer</td>\n",
       "      <td>None</td>\n",
       "      <td>None</td>\n",
       "      <td>https://raw.githubusercontent.com/PokeAPI/sprites/master/sprites/pokemon/1025.png</td>\n",
       "    </tr>\n",
       "  </tbody>\n",
       "</table>\n",
       "<p>1025 rows × 13 columns</p>\n",
       "</div>"
      ],
      "text/plain": [
       "        id          name   color        habitat      shape poke_type  \\\n",
       "0        1     bulbasaur   green      grassland  quadruped     grass   \n",
       "1        2       ivysaur   green      grassland  quadruped     grass   \n",
       "2        3      venusaur   green      grassland  quadruped     grass   \n",
       "3        4    charmander     red       mountain    upright      fire   \n",
       "4        5    charmeleon     red       mountain    upright      fire   \n",
       "...    ...           ...     ...            ...        ...       ...   \n",
       "1020  1021   raging-bolt  yellow      grassland   humanoid  electric   \n",
       "1021  1022  iron-boulder    gray       mountain   humanoid      rock   \n",
       "1022  1023    iron-crown    blue  rough-terrain  quadruped     steel   \n",
       "1023  1024     terapagos    blue      grassland  quadruped    normal   \n",
       "1024  1025     pecharunt  purple      grassland   humanoid    poison   \n",
       "\n",
       "      capture_chance  height  weight         ability_0    ability_1 ability_2  \\\n",
       "0               0.18       7      69          overgrow  chlorophyll      None   \n",
       "1               0.18      10     130          overgrow  chlorophyll      None   \n",
       "2               0.18      20    1000          overgrow  chlorophyll      None   \n",
       "3               0.18       6      85             blaze  solar-power      None   \n",
       "4               0.18      11     190             blaze  solar-power      None   \n",
       "...              ...     ...     ...               ...          ...       ...   \n",
       "1020            0.04      52    4800    protosynthesis         None      None   \n",
       "1021            0.04      15    1625       quark-drive         None      None   \n",
       "1022            0.04      16    1560       quark-drive         None      None   \n",
       "1023            1.00       2      65        tera-shift         None      None   \n",
       "1024            0.01       3       3  poison-puppeteer         None      None   \n",
       "\n",
       "                                                                                 sprite  \n",
       "0        https://raw.githubusercontent.com/PokeAPI/sprites/master/sprites/pokemon/1.png  \n",
       "1        https://raw.githubusercontent.com/PokeAPI/sprites/master/sprites/pokemon/2.png  \n",
       "2        https://raw.githubusercontent.com/PokeAPI/sprites/master/sprites/pokemon/3.png  \n",
       "3        https://raw.githubusercontent.com/PokeAPI/sprites/master/sprites/pokemon/4.png  \n",
       "4        https://raw.githubusercontent.com/PokeAPI/sprites/master/sprites/pokemon/5.png  \n",
       "...                                                                                 ...  \n",
       "1020  https://raw.githubusercontent.com/PokeAPI/sprites/master/sprites/pokemon/1021.png  \n",
       "1021  https://raw.githubusercontent.com/PokeAPI/sprites/master/sprites/pokemon/1022.png  \n",
       "1022  https://raw.githubusercontent.com/PokeAPI/sprites/master/sprites/pokemon/1023.png  \n",
       "1023  https://raw.githubusercontent.com/PokeAPI/sprites/master/sprites/pokemon/1024.png  \n",
       "1024  https://raw.githubusercontent.com/PokeAPI/sprites/master/sprites/pokemon/1025.png  \n",
       "\n",
       "[1025 rows x 13 columns]"
      ]
     },
     "execution_count": 44,
     "metadata": {},
     "output_type": "execute_result"
    }
   ],
   "source": [
    "query = Query(poke_index).find(pokemon).with_vector(pokemon, id_param=\"25\")\n",
    "result = app.query(query)\n",
    "get_results(result)"
   ]
  }
 ],
 "metadata": {
  "kernelspec": {
   "display_name": "base",
   "language": "python",
   "name": "python3"
  },
  "language_info": {
   "codemirror_mode": {
    "name": "ipython",
    "version": 3
   },
   "file_extension": ".py",
   "mimetype": "text/x-python",
   "name": "python",
   "nbconvert_exporter": "python",
   "pygments_lexer": "ipython3",
   "version": "3.10.11"
  }
 },
 "nbformat": 4,
 "nbformat_minor": 2
}
